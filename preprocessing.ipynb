{
  "nbformat": 4,
  "nbformat_minor": 0,
  "metadata": {
    "colab": {
      "provenance": [],
      "mount_file_id": "1lwvIS8AbAgsAJC6zM8KK2XzDvMwuRji7",
      "authorship_tag": "ABX9TyMQ4k2Rx52J6U8vzTE3odov",
      "include_colab_link": true
    },
    "kernelspec": {
      "name": "python3",
      "display_name": "Python 3"
    },
    "language_info": {
      "name": "python"
    }
  },
  "cells": [
    {
      "cell_type": "markdown",
      "metadata": {
        "id": "view-in-github",
        "colab_type": "text"
      },
      "source": [
        "<a href=\"https://colab.research.google.com/github/vimesh630/ML_CW/blob/main/preprocessing.ipynb\" target=\"_parent\"><img src=\"https://colab.research.google.com/assets/colab-badge.svg\" alt=\"Open In Colab\"/></a>"
      ]
    },
    {
      "cell_type": "markdown",
      "source": [
        "Import Libraries and Mount Google Drive"
      ],
      "metadata": {
        "id": "YJNjUmofnlQr"
      }
    },
    {
      "cell_type": "code",
      "source": [
        "# Import necessary libraries\n",
        "import pandas as pd\n",
        "from sklearn.model_selection import train_test_split\n",
        "from sklearn.preprocessing import StandardScaler, OneHotEncoder\n",
        "from sklearn.impute import SimpleImputer\n",
        "from imblearn.over_sampling import SMOTE\n",
        "from google.colab import drive\n",
        "import os\n",
        "\n",
        "# Mount Google Drive\n",
        "drive.mount('/content/drive')\n",
        "\n",
        "# Define the paths\n",
        "drive_path = '/content/drive/MyDrive/ML Coursework/'\n",
        "file1_path = os.path.join(drive_path, 'bank+marketing/bank-additional/bank-additional/bank-additional-full.csv')\n",
        "file2_path = os.path.join(drive_path, 'bank+marketing/bank-additional/bank-additional/bank-additional.csv')"
      ],
      "metadata": {
        "colab": {
          "base_uri": "https://localhost:8080/"
        },
        "id": "AVYclmEinvL_",
        "outputId": "e3c8b21d-7607-484c-ddd3-07bea2705d36"
      },
      "execution_count": 21,
      "outputs": [
        {
          "output_type": "stream",
          "name": "stdout",
          "text": [
            "Drive already mounted at /content/drive; to attempt to forcibly remount, call drive.mount(\"/content/drive\", force_remount=True).\n"
          ]
        }
      ]
    },
    {
      "cell_type": "markdown",
      "source": [
        "Load and Merge Datasets"
      ],
      "metadata": {
        "id": "ifwS0zu-nyLS"
      }
    },
    {
      "cell_type": "code",
      "source": [
        "# Load the datasets\n",
        "df1 = pd.read_csv(file1_path, sep=';')\n",
        "df2 = pd.read_csv(file2_path, sep=';')\n",
        "\n",
        "# Merge the datasets\n",
        "data = pd.concat([df1, df2], axis=0, ignore_index=True)\n",
        "\n",
        "# Verify the merged dataset\n",
        "print(\"Columns after loading:\")\n",
        "print(data.columns)"
      ],
      "metadata": {
        "id": "PAqa7sAdn1vW",
        "colab": {
          "base_uri": "https://localhost:8080/"
        },
        "outputId": "aa028bef-808d-4380-ee03-1fae8acdc868"
      },
      "execution_count": 22,
      "outputs": [
        {
          "output_type": "stream",
          "name": "stdout",
          "text": [
            "Columns after loading:\n",
            "Index(['age', 'job', 'marital', 'education', 'default', 'housing', 'loan',\n",
            "       'contact', 'month', 'day_of_week', 'duration', 'campaign', 'pdays',\n",
            "       'previous', 'poutcome', 'emp.var.rate', 'cons.price.idx',\n",
            "       'cons.conf.idx', 'euribor3m', 'nr.employed', 'y'],\n",
            "      dtype='object')\n"
          ]
        }
      ]
    },
    {
      "cell_type": "markdown",
      "source": [
        "Handle Missing Values"
      ],
      "metadata": {
        "id": "zslAKJZAn4X0"
      }
    },
    {
      "cell_type": "code",
      "source": [
        "# Handle missing values for numerical and categorical columns\n",
        "numerical_imputer = SimpleImputer(strategy='mean')\n",
        "categorical_imputer = SimpleImputer(strategy='most_frequent')\n",
        "\n",
        "# Identify numerical and categorical columns\n",
        "numerical_cols = data.select_dtypes(include=['int64', 'float64']).columns\n",
        "categorical_cols = data.select_dtypes(include=['object']).columns\n",
        "\n",
        "# Impute missing values for numerical columns\n",
        "for col in numerical_cols:\n",
        "    data[col] = numerical_imputer.fit_transform(data[[col]])\n",
        "\n",
        "# Impute missing values for categorical columns\n",
        "for col in categorical_cols:\n",
        "    data[col] = categorical_imputer.fit_transform(data[[col]].values.reshape(-1, 1)).ravel()\n",
        "\n",
        "# Verify no missing values remain\n",
        "print(\"Missing values after imputation:\")\n",
        "print(data.isnull().sum())"
      ],
      "metadata": {
        "id": "3z-7v5z8n8qP",
        "colab": {
          "base_uri": "https://localhost:8080/"
        },
        "outputId": "a524d4cd-c28d-4cfc-fafd-1608c682d2cb"
      },
      "execution_count": 23,
      "outputs": [
        {
          "output_type": "stream",
          "name": "stdout",
          "text": [
            "Missing values after imputation:\n",
            "age               0\n",
            "job               0\n",
            "marital           0\n",
            "education         0\n",
            "default           0\n",
            "housing           0\n",
            "loan              0\n",
            "contact           0\n",
            "month             0\n",
            "day_of_week       0\n",
            "duration          0\n",
            "campaign          0\n",
            "pdays             0\n",
            "previous          0\n",
            "poutcome          0\n",
            "emp.var.rate      0\n",
            "cons.price.idx    0\n",
            "cons.conf.idx     0\n",
            "euribor3m         0\n",
            "nr.employed       0\n",
            "y                 0\n",
            "dtype: int64\n"
          ]
        }
      ]
    },
    {
      "cell_type": "markdown",
      "source": [
        "Ensure the 'y' Column Exists"
      ],
      "metadata": {
        "id": "1yxaGcWov8Mr"
      }
    },
    {
      "cell_type": "code",
      "source": [
        "# Verify that the 'y' column exists before processing\n",
        "print(\"Columns before target conversion:\")\n",
        "print(data.columns)\n",
        "print(\"First few rows of 'y':\")\n",
        "print(data['y'].head())"
      ],
      "metadata": {
        "colab": {
          "base_uri": "https://localhost:8080/"
        },
        "id": "flfVSCHVwA7M",
        "outputId": "0178e9f0-c7e2-4dd2-89ea-7319b74953e5"
      },
      "execution_count": 24,
      "outputs": [
        {
          "output_type": "stream",
          "name": "stdout",
          "text": [
            "Columns before target conversion:\n",
            "Index(['age', 'job', 'marital', 'education', 'default', 'housing', 'loan',\n",
            "       'contact', 'month', 'day_of_week', 'duration', 'campaign', 'pdays',\n",
            "       'previous', 'poutcome', 'emp.var.rate', 'cons.price.idx',\n",
            "       'cons.conf.idx', 'euribor3m', 'nr.employed', 'y'],\n",
            "      dtype='object')\n",
            "First few rows of 'y':\n",
            "0    no\n",
            "1    no\n",
            "2    no\n",
            "3    no\n",
            "4    no\n",
            "Name: y, dtype: object\n"
          ]
        }
      ]
    },
    {
      "cell_type": "markdown",
      "source": [
        "Convert Target Variable to Binary"
      ],
      "metadata": {
        "id": "7CfxlkFZwHHr"
      }
    },
    {
      "cell_type": "code",
      "source": [
        "# Convert 'y' column to binary\n",
        "data['y'] = data['y'].apply(lambda x: 1 if x == 'yes' else 0)\n",
        "\n",
        "# Confirm the conversion\n",
        "print(\"Target value counts after conversion:\")\n",
        "print(data['y'].value_counts())"
      ],
      "metadata": {
        "colab": {
          "base_uri": "https://localhost:8080/"
        },
        "id": "8wRIlwwswK_4",
        "outputId": "52f6ff62-933d-4425-8bff-c0b8fd037e6e"
      },
      "execution_count": 25,
      "outputs": [
        {
          "output_type": "stream",
          "name": "stdout",
          "text": [
            "Target value counts after conversion:\n",
            "y\n",
            "0    40216\n",
            "1     5091\n",
            "Name: count, dtype: int64\n"
          ]
        }
      ]
    },
    {
      "cell_type": "markdown",
      "source": [
        "Encode Categorical Variables"
      ],
      "metadata": {
        "id": "SegEFexin_Z3"
      }
    },
    {
      "cell_type": "code",
      "source": [
        "# Encode categorical variables\n",
        "encoder = OneHotEncoder(sparse_output=False, handle_unknown='ignore')\n",
        "categorical_encoded = pd.DataFrame(\n",
        "    encoder.fit_transform(data[categorical_cols]),\n",
        "    columns=encoder.get_feature_names_out(categorical_cols),\n",
        "    index=data.index\n",
        ")\n",
        "\n",
        "# Drop original categorical columns and concatenate encoded columns\n",
        "data = pd.concat([data.drop(columns=categorical_cols), categorical_encoded], axis=1)\n",
        "\n",
        "# Verify encoding\n",
        "print(\"Data after encoding:\")\n",
        "print(data.head())"
      ],
      "metadata": {
        "id": "UKxqpwChoC6D",
        "colab": {
          "base_uri": "https://localhost:8080/"
        },
        "outputId": "3338dee4-1614-45ff-b042-852de8b4402e"
      },
      "execution_count": 26,
      "outputs": [
        {
          "output_type": "stream",
          "name": "stdout",
          "text": [
            "Data after encoding:\n",
            "    age  duration  campaign  pdays  previous  emp.var.rate  cons.price.idx  \\\n",
            "0  56.0     261.0       1.0  999.0       0.0           1.1          93.994   \n",
            "1  57.0     149.0       1.0  999.0       0.0           1.1          93.994   \n",
            "2  37.0     226.0       1.0  999.0       0.0           1.1          93.994   \n",
            "3  40.0     151.0       1.0  999.0       0.0           1.1          93.994   \n",
            "4  56.0     307.0       1.0  999.0       0.0           1.1          93.994   \n",
            "\n",
            "   cons.conf.idx  euribor3m  nr.employed  ...  day_of_week_fri  \\\n",
            "0          -36.4      4.857       5191.0  ...              0.0   \n",
            "1          -36.4      4.857       5191.0  ...              0.0   \n",
            "2          -36.4      4.857       5191.0  ...              0.0   \n",
            "3          -36.4      4.857       5191.0  ...              0.0   \n",
            "4          -36.4      4.857       5191.0  ...              0.0   \n",
            "\n",
            "   day_of_week_mon  day_of_week_thu  day_of_week_tue  day_of_week_wed  \\\n",
            "0              1.0              0.0              0.0              0.0   \n",
            "1              1.0              0.0              0.0              0.0   \n",
            "2              1.0              0.0              0.0              0.0   \n",
            "3              1.0              0.0              0.0              0.0   \n",
            "4              1.0              0.0              0.0              0.0   \n",
            "\n",
            "   poutcome_failure  poutcome_nonexistent  poutcome_success  y_0  y_1  \n",
            "0               0.0                   1.0               0.0  1.0  0.0  \n",
            "1               0.0                   1.0               0.0  1.0  0.0  \n",
            "2               0.0                   1.0               0.0  1.0  0.0  \n",
            "3               0.0                   1.0               0.0  1.0  0.0  \n",
            "4               0.0                   1.0               0.0  1.0  0.0  \n",
            "\n",
            "[5 rows x 65 columns]\n"
          ]
        }
      ]
    },
    {
      "cell_type": "markdown",
      "source": [
        "Handle Class Imbalance with SMOTE"
      ],
      "metadata": {
        "id": "ra-vLB_BoFg5"
      }
    },
    {
      "cell_type": "code",
      "source": [
        "# Ensure all features are numeric\n",
        "print(\"Feature dtypes before SMOTE:\")\n",
        "print(X.dtypes.value_counts())\n",
        "\n",
        "# Select only numeric columns to pass to SMOTE\n",
        "X = X.select_dtypes(include=['int64', 'float64'])\n",
        "\n",
        "# Verify features after filtering\n",
        "print(\"Feature shape after selecting numeric columns:\", X.shape)\n",
        "\n",
        "# Apply SMOTE to handle class imbalance\n",
        "smote = SMOTE(random_state=42)\n",
        "X_resampled, y_resampled = smote.fit_resample(X, y)\n",
        "\n",
        "# Verify SMOTE results\n",
        "print(\"Shapes after SMOTE:\")\n",
        "print(\"Features:\", X_resampled.shape)\n",
        "print(\"Target:\", y_resampled.shape)\n"
      ],
      "metadata": {
        "id": "fCxG0YUSoKd1",
        "colab": {
          "base_uri": "https://localhost:8080/"
        },
        "outputId": "84130185-e6e3-42b6-fecb-21e09bfd25da"
      },
      "execution_count": 27,
      "outputs": [
        {
          "output_type": "stream",
          "name": "stdout",
          "text": [
            "Feature dtypes before SMOTE:\n",
            "int64      5\n",
            "float64    5\n",
            "Name: count, dtype: int64\n",
            "Feature shape after selecting numeric columns: (45307, 10)\n",
            "Shapes after SMOTE:\n",
            "Features: (80432, 10)\n",
            "Target: (80432,)\n"
          ]
        },
        {
          "output_type": "stream",
          "name": "stderr",
          "text": [
            "/usr/local/lib/python3.10/dist-packages/sklearn/base.py:474: FutureWarning: `BaseEstimator._validate_data` is deprecated in 1.6 and will be removed in 1.7. Use `sklearn.utils.validation.validate_data` instead. This function becomes public and is part of the scikit-learn developer API.\n",
            "  warnings.warn(\n",
            "/usr/local/lib/python3.10/dist-packages/sklearn/utils/_tags.py:354: FutureWarning: The SMOTE or classes from which it inherits use `_get_tags` and `_more_tags`. Please define the `__sklearn_tags__` method, or inherit from `sklearn.base.BaseEstimator` and/or other appropriate mixins such as `sklearn.base.TransformerMixin`, `sklearn.base.ClassifierMixin`, `sklearn.base.RegressorMixin`, and `sklearn.base.OutlierMixin`. From scikit-learn 1.7, not defining `__sklearn_tags__` will raise an error.\n",
            "  warnings.warn(\n"
          ]
        }
      ]
    },
    {
      "cell_type": "markdown",
      "source": [
        "Split Dataset into Training and Testing Sets"
      ],
      "metadata": {
        "id": "UUXwQuxxoLw_"
      }
    },
    {
      "cell_type": "code",
      "source": [
        "# Split the data\n",
        "X_train, X_test, y_train, y_test = train_test_split(\n",
        "    X_resampled, y_resampled, test_size=0.2, random_state=42\n",
        ")\n",
        "\n",
        "# Verify the split\n",
        "print(\"Training set shape:\", X_train.shape)\n",
        "print(\"Testing set shape:\", X_test.shape)"
      ],
      "metadata": {
        "colab": {
          "base_uri": "https://localhost:8080/"
        },
        "id": "mpQY_x8boSGG",
        "outputId": "9db8244e-0645-468b-c107-eb324f2c1ac0"
      },
      "execution_count": 28,
      "outputs": [
        {
          "output_type": "stream",
          "name": "stdout",
          "text": [
            "Training set shape: (64345, 10)\n",
            "Testing set shape: (16087, 10)\n"
          ]
        }
      ]
    },
    {
      "cell_type": "markdown",
      "source": [
        "Scale Features for Neural Networks"
      ],
      "metadata": {
        "id": "0czsod7-oVtV"
      }
    },
    {
      "cell_type": "code",
      "source": [
        "# Scale features for Neural Networks\n",
        "scaler = StandardScaler()\n",
        "X_train_scaled = scaler.fit_transform(X_train)\n",
        "X_test_scaled = scaler.transform(X_test)\n",
        "\n",
        "# Verify scaling\n",
        "print(\"Scaled training set shape:\", X_train_scaled.shape)\n",
        "print(\"Scaled testing set shape:\", X_test_scaled.shape)"
      ],
      "metadata": {
        "id": "taXyWZb2oa0e",
        "colab": {
          "base_uri": "https://localhost:8080/"
        },
        "outputId": "ff20149d-63ad-4545-c4cc-4c4c87ab78cc"
      },
      "execution_count": 29,
      "outputs": [
        {
          "output_type": "stream",
          "name": "stdout",
          "text": [
            "Scaled training set shape: (64345, 10)\n",
            "Scaled testing set shape: (16087, 10)\n"
          ]
        }
      ]
    },
    {
      "cell_type": "markdown",
      "source": [
        "Save Files to Google Drive"
      ],
      "metadata": {
        "id": "YEoc5pWxof-E"
      }
    },
    {
      "cell_type": "code",
      "source": [
        "# Create an output directory\n",
        "output_dir = os.path.join(drive_path, 'Preprocessed Dataset')\n",
        "os.makedirs(output_dir, exist_ok=True)\n",
        "\n",
        "# Save files\n",
        "pd.DataFrame(X_train).to_csv(os.path.join(output_dir, 'X_train.csv'), index=False)\n",
        "pd.DataFrame(X_test).to_csv(os.path.join(output_dir, 'X_test.csv'), index=False)\n",
        "pd.DataFrame(X_train_scaled).to_csv(os.path.join(output_dir, 'X_train_scaled.csv'), index=False)\n",
        "pd.DataFrame(X_test_scaled).to_csv(os.path.join(output_dir, 'X_test_scaled.csv'), index=False)\n",
        "pd.DataFrame(y_train).to_csv(os.path.join(output_dir, 'y_train.csv'), index=False)\n",
        "pd.DataFrame(y_test).to_csv(os.path.join(output_dir, 'y_test.csv'), index=False)\n",
        "\n",
        "print(\"Preprocessing complete. Files saved to Google Drive.\")"
      ],
      "metadata": {
        "id": "BDZAKwkbooJw",
        "colab": {
          "base_uri": "https://localhost:8080/"
        },
        "outputId": "d9798c61-accc-43b4-b0ab-6718c441e5c4"
      },
      "execution_count": 31,
      "outputs": [
        {
          "output_type": "stream",
          "name": "stdout",
          "text": [
            "Preprocessing complete. Files saved to Google Drive.\n"
          ]
        }
      ]
    }
  ]
}
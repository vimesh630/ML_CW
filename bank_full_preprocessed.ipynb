{
  "nbformat": 4,
  "nbformat_minor": 0,
  "metadata": {
    "colab": {
      "provenance": [],
      "mount_file_id": "1lwvIS8AbAgsAJC6zM8KK2XzDvMwuRji7",
      "authorship_tag": "ABX9TyMR/GAu4iSB4+jLxejI9+FE",
      "include_colab_link": true
    },
    "kernelspec": {
      "name": "python3",
      "display_name": "Python 3"
    },
    "language_info": {
      "name": "python"
    }
  },
  "cells": [
    {
      "cell_type": "markdown",
      "metadata": {
        "id": "view-in-github",
        "colab_type": "text"
      },
      "source": [
        "<a href=\"https://colab.research.google.com/github/vimesh630/ML_CW/blob/main/bank_full_preprocessed.ipynb\" target=\"_parent\"><img src=\"https://colab.research.google.com/assets/colab-badge.svg\" alt=\"Open In Colab\"/></a>"
      ]
    },
    {
      "cell_type": "markdown",
      "source": [
        "# Mount Google drive and Load Dataset"
      ],
      "metadata": {
        "id": "4tm5uRykb3cx"
      }
    },
    {
      "cell_type": "code",
      "execution_count": null,
      "metadata": {
        "colab": {
          "base_uri": "https://localhost:8080/"
        },
        "id": "NaW2FpCpazWz",
        "outputId": "60f45e00-f3a9-4b6c-d56c-3f9bc1e691ee"
      },
      "outputs": [
        {
          "output_type": "stream",
          "name": "stdout",
          "text": [
            "Drive already mounted at /content/drive; to attempt to forcibly remount, call drive.mount(\"/content/drive\", force_remount=True).\n",
            "Dataset Overview:\n",
            "   age           job  marital  education default  balance housing loan  \\\n",
            "0   58    management  married   tertiary      no     2143     yes   no   \n",
            "1   44    technician   single  secondary      no       29     yes   no   \n",
            "2   33  entrepreneur  married  secondary      no        2     yes  yes   \n",
            "3   47   blue-collar  married    unknown      no     1506     yes   no   \n",
            "4   33       unknown   single    unknown      no        1      no   no   \n",
            "\n",
            "   contact  day month  duration  campaign  pdays  previous poutcome   y  \n",
            "0  unknown    5   may       261         1     -1         0  unknown  no  \n",
            "1  unknown    5   may       151         1     -1         0  unknown  no  \n",
            "2  unknown    5   may        76         1     -1         0  unknown  no  \n",
            "3  unknown    5   may        92         1     -1         0  unknown  no  \n",
            "4  unknown    5   may       198         1     -1         0  unknown  no  \n",
            "<class 'pandas.core.frame.DataFrame'>\n",
            "RangeIndex: 45211 entries, 0 to 45210\n",
            "Data columns (total 17 columns):\n",
            " #   Column     Non-Null Count  Dtype \n",
            "---  ------     --------------  ----- \n",
            " 0   age        45211 non-null  int64 \n",
            " 1   job        45211 non-null  object\n",
            " 2   marital    45211 non-null  object\n",
            " 3   education  45211 non-null  object\n",
            " 4   default    45211 non-null  object\n",
            " 5   balance    45211 non-null  int64 \n",
            " 6   housing    45211 non-null  object\n",
            " 7   loan       45211 non-null  object\n",
            " 8   contact    45211 non-null  object\n",
            " 9   day        45211 non-null  int64 \n",
            " 10  month      45211 non-null  object\n",
            " 11  duration   45211 non-null  int64 \n",
            " 12  campaign   45211 non-null  int64 \n",
            " 13  pdays      45211 non-null  int64 \n",
            " 14  previous   45211 non-null  int64 \n",
            " 15  poutcome   45211 non-null  object\n",
            " 16  y          45211 non-null  object\n",
            "dtypes: int64(7), object(10)\n",
            "memory usage: 5.9+ MB\n",
            "None\n"
          ]
        }
      ],
      "source": [
        "# Mount Google Drive\n",
        "from google.colab import drive\n",
        "drive.mount('/content/drive')\n",
        "\n",
        "# Import necessary libraries\n",
        "import pandas as pd\n",
        "\n",
        "# Load the dataset\n",
        "file_path = \"/content/drive/MyDrive/ML Coursework/bank+marketing/bank/bank-full.csv\"\n",
        "data = pd.read_csv(file_path, sep=';')\n",
        "\n",
        "# Display basic information\n",
        "print(\"Dataset Overview:\")\n",
        "print(data.head())\n",
        "print(data.info())"
      ]
    },
    {
      "cell_type": "markdown",
      "source": [
        "# Handle Missing Values"
      ],
      "metadata": {
        "id": "vz5a7bDNdYh6"
      }
    },
    {
      "cell_type": "code",
      "source": [
        "# Check for missing values\n",
        "print(\"Missing Values per Column:\")\n",
        "print(data.isnull().sum())\n",
        "\n",
        "# If missing values are found, fill or handle them appropriately\n",
        "# Example (no missing values expected in this dataset):\n",
        "# data['column_name'].fillna(data['column_name'].mean(), inplace=True)"
      ],
      "metadata": {
        "colab": {
          "base_uri": "https://localhost:8080/"
        },
        "id": "-4FxSRlnb3ER",
        "outputId": "8a210ed4-9994-43d4-d0f6-f646ae521b4e"
      },
      "execution_count": null,
      "outputs": [
        {
          "output_type": "stream",
          "name": "stdout",
          "text": [
            "Missing Values per Column:\n",
            "age          0\n",
            "job          0\n",
            "marital      0\n",
            "education    0\n",
            "default      0\n",
            "balance      0\n",
            "housing      0\n",
            "loan         0\n",
            "contact      0\n",
            "day          0\n",
            "month        0\n",
            "duration     0\n",
            "campaign     0\n",
            "pdays        0\n",
            "previous     0\n",
            "poutcome     0\n",
            "y            0\n",
            "dtype: int64\n"
          ]
        }
      ]
    },
    {
      "cell_type": "markdown",
      "source": [
        "# Encode Categorical Features"
      ],
      "metadata": {
        "id": "MZNmqCN7fp-A"
      }
    },
    {
      "cell_type": "code",
      "source": [
        "from sklearn.preprocessing import LabelEncoder\n",
        "\n",
        "# Identify categorical columns\n",
        "categorical_columns = data.select_dtypes(include=['object']).columns\n",
        "print(\"Categorical Columns:\", categorical_columns)\n",
        "\n",
        "# Convert target variable `y` to binary\n",
        "data['y'] = data['y'].map({'yes': 1, 'no': 0})\n",
        "\n",
        "# Encode other categorical features\n",
        "label_encoders = {}\n",
        "for col in categorical_columns:\n",
        "    if col != 'y':  # Skip the target column\n",
        "        le = LabelEncoder()\n",
        "        data[col] = le.fit_transform(data[col])\n",
        "        label_encoders[col] = le\n",
        "\n",
        "print(\"Dataset After Encoding:\")\n",
        "print(data.head())"
      ],
      "metadata": {
        "colab": {
          "base_uri": "https://localhost:8080/"
        },
        "id": "IGn3kD6KfwcI",
        "outputId": "6d319576-4240-430a-c0d2-6b016b6a934e"
      },
      "execution_count": null,
      "outputs": [
        {
          "output_type": "stream",
          "name": "stdout",
          "text": [
            "Categorical Columns: Index(['job', 'marital', 'education', 'default', 'housing', 'loan', 'contact',\n",
            "       'month', 'poutcome', 'y'],\n",
            "      dtype='object')\n",
            "Dataset After Encoding:\n",
            "   age  job  marital  education  default  balance  housing  loan  contact  \\\n",
            "0   58    4        1          2        0     2143        1     0        2   \n",
            "1   44    9        2          1        0       29        1     0        2   \n",
            "2   33    2        1          1        0        2        1     1        2   \n",
            "3   47    1        1          3        0     1506        1     0        2   \n",
            "4   33   11        2          3        0        1        0     0        2   \n",
            "\n",
            "   day  month  duration  campaign  pdays  previous  poutcome  y  \n",
            "0    5      8       261         1     -1         0         3  0  \n",
            "1    5      8       151         1     -1         0         3  0  \n",
            "2    5      8        76         1     -1         0         3  0  \n",
            "3    5      8        92         1     -1         0         3  0  \n",
            "4    5      8       198         1     -1         0         3  0  \n"
          ]
        }
      ]
    },
    {
      "cell_type": "markdown",
      "source": [
        "# Feature Engineering"
      ],
      "metadata": {
        "id": "7DgeVjScf0J0"
      }
    },
    {
      "cell_type": "code",
      "source": [
        "# Example: Remove irrelevant or non-informative columns\n",
        "# data = data.drop(['column_name'], axis=1)\n",
        "\n",
        "# Example: Create new features (e.g., age group)\n",
        "data['age_group'] = pd.cut(data['age'], bins=[18, 30, 50, 70, 100], labels=['18-30', '30-50', '50-70', '70+'])\n",
        "print(\"Dataset with New Features:\")\n",
        "print(data.head())"
      ],
      "metadata": {
        "colab": {
          "base_uri": "https://localhost:8080/"
        },
        "id": "fskIL8Xhf3Pr",
        "outputId": "fdc72d81-aa30-49fa-c158-ec813719375e"
      },
      "execution_count": null,
      "outputs": [
        {
          "output_type": "stream",
          "name": "stdout",
          "text": [
            "Dataset with New Features:\n",
            "   age  job  marital  education  default  balance  housing  loan  contact  \\\n",
            "0   58    4        1          2        0     2143        1     0        2   \n",
            "1   44    9        2          1        0       29        1     0        2   \n",
            "2   33    2        1          1        0        2        1     1        2   \n",
            "3   47    1        1          3        0     1506        1     0        2   \n",
            "4   33   11        2          3        0        1        0     0        2   \n",
            "\n",
            "   day  month  duration  campaign  pdays  previous  poutcome  y age_group  \n",
            "0    5      8       261         1     -1         0         3  0     50-70  \n",
            "1    5      8       151         1     -1         0         3  0     30-50  \n",
            "2    5      8        76         1     -1         0         3  0     30-50  \n",
            "3    5      8        92         1     -1         0         3  0     30-50  \n",
            "4    5      8       198         1     -1         0         3  0     30-50  \n"
          ]
        }
      ]
    },
    {
      "cell_type": "markdown",
      "source": [
        "# Split Dataset into Training and Testing Sets"
      ],
      "metadata": {
        "id": "5ZYBlTVAf5Zq"
      }
    },
    {
      "cell_type": "code",
      "source": [
        "from sklearn.model_selection import train_test_split\n",
        "\n",
        "# Separate features and target variable\n",
        "X = data.drop('y', axis=1)\n",
        "y = data['y']\n",
        "\n",
        "# Perform train-test split\n",
        "X_train, X_test, y_train, y_test = train_test_split(X, y, test_size=0.2, random_state=42)\n",
        "\n",
        "print(\"Shapes of Training and Test Sets:\")\n",
        "print(X_train.shape, X_test.shape, y_train.shape, y_test.shape)"
      ],
      "metadata": {
        "colab": {
          "base_uri": "https://localhost:8080/"
        },
        "id": "YmnvXaFugAFs",
        "outputId": "7737e792-4b36-4443-9987-32102b77c008"
      },
      "execution_count": null,
      "outputs": [
        {
          "output_type": "stream",
          "name": "stdout",
          "text": [
            "Shapes of Training and Test Sets:\n",
            "(36168, 17) (9043, 17) (36168,) (9043,)\n"
          ]
        }
      ]
    },
    {
      "cell_type": "markdown",
      "source": [
        "# Scale Features"
      ],
      "metadata": {
        "id": "Fa72pFqogC_J"
      }
    },
    {
      "cell_type": "code",
      "source": [
        "from sklearn.preprocessing import StandardScaler\n",
        "\n",
        "# Identify numeric columns\n",
        "numeric_columns = X_train.select_dtypes(include=['float64', 'int64']).columns\n",
        "print(\"Numeric Columns for Scaling:\", numeric_columns)\n",
        "\n",
        "# Initialize the scaler\n",
        "scaler = StandardScaler()\n",
        "\n",
        "# Scale only numeric columns\n",
        "X_train_scaled = scaler.fit_transform(X_train[numeric_columns])\n",
        "X_test_scaled = scaler.transform(X_test[numeric_columns])\n",
        "\n",
        "# Convert back to DataFrame\n",
        "X_train_scaled_df = pd.DataFrame(X_train_scaled, columns=numeric_columns, index=X_train.index)\n",
        "X_test_scaled_df = pd.DataFrame(X_test_scaled, columns=numeric_columns, index=X_test.index)\n",
        "\n",
        "# Combine scaled numeric columns with non-numeric columns\n",
        "X_train_processed = pd.concat([X_train_scaled_df, X_train.drop(numeric_columns, axis=1)], axis=1)\n",
        "X_test_processed = pd.concat([X_test_scaled_df, X_test.drop(numeric_columns, axis=1)], axis=1)\n",
        "\n",
        "print(\"Scaled and Processed Training Set:\")\n",
        "print(X_train_processed.head())\n"
      ],
      "metadata": {
        "colab": {
          "base_uri": "https://localhost:8080/"
        },
        "id": "Oi6NM-WZgFmB",
        "outputId": "96d41a08-d71d-4ec0-a784-60aecc61e1c9"
      },
      "execution_count": null,
      "outputs": [
        {
          "output_type": "stream",
          "name": "stdout",
          "text": [
            "Numeric Columns for Scaling: Index(['age', 'job', 'marital', 'education', 'default', 'balance', 'housing',\n",
            "       'loan', 'contact', 'day', 'month', 'duration', 'campaign', 'pdays',\n",
            "       'previous', 'poutcome'],\n",
            "      dtype='object')\n",
            "Scaled and Processed Training Set:\n",
            "            age       job   marital  education   default   balance   housing  \\\n",
            "3344   0.006515 -1.020575 -0.276680  -1.636573 -0.138113 -0.169381  0.892343   \n",
            "17965  0.759937  1.423250 -0.276680  -1.636573 -0.138113  0.017848  0.892343   \n",
            "18299  0.100693 -1.326053 -0.276680  -0.297306 -0.138113  0.820681 -1.120646   \n",
            "10221 -0.370196 -0.104140  1.369745   1.041961 -0.138113 -0.489588  0.892343   \n",
            "32192  1.419181 -1.020575 -0.276680  -1.636573 -0.138113  0.706889 -1.120646   \n",
            "\n",
            "           loan   contact       day     month  duration  campaign     pdays  \\\n",
            "3344  -0.438594  1.517492 -0.098218  0.824500 -0.719756 -0.565886 -0.411364   \n",
            "17965 -0.438594 -0.711462  1.703422 -0.174289  0.047138 -0.245389 -0.411364   \n",
            "18299 -0.438594 -0.711462  1.823532 -0.174289 -0.493970  0.395606 -0.411364   \n",
            "10221 -0.438594  1.517492 -0.578656  0.158640  0.459781  2.639088 -0.411364   \n",
            "32192 -0.438594 -0.711462 -0.098218 -1.838937  0.027674 -0.245389 -0.411364   \n",
            "\n",
            "       previous  poutcome age_group  \n",
            "3344  -0.244772  0.445114     30-50  \n",
            "17965 -0.244772  0.445114     30-50  \n",
            "18299 -0.244772  0.445114     30-50  \n",
            "10221 -0.244772  0.445114     30-50  \n",
            "32192 -0.244772  0.445114     50-70  \n"
          ]
        }
      ]
    },
    {
      "cell_type": "markdown",
      "source": [
        "# Saving Preprocessed Data"
      ],
      "metadata": {
        "id": "aqCot2_4gH6J"
      }
    },
    {
      "cell_type": "code",
      "source": [
        "# Save the preprocessed datasets to Google Drive\n",
        "X_train_processed.to_csv('/content/drive/MyDrive/ML Coursework/Preprocessed Dataset/X_train.csv', index=False)\n",
        "y_train.to_csv('/content/drive/MyDrive/ML Coursework/Preprocessed Dataset/y_train.csv', index=False)\n",
        "X_test_processed.to_csv('/content/drive/MyDrive/ML Coursework/Preprocessed Dataset/X_test.csv', index=False)\n",
        "y_test.to_csv('/content/drive/MyDrive/ML Coursework/Preprocessed Dataset/y_test.csv', index=False)\n",
        "\n",
        "print(\"Preprocessed datasets have been saved to Google Drive.\")"
      ],
      "metadata": {
        "colab": {
          "base_uri": "https://localhost:8080/"
        },
        "id": "u5GYD16NgNBy",
        "outputId": "71d564b2-388e-425f-9316-5600392372c7"
      },
      "execution_count": null,
      "outputs": [
        {
          "output_type": "stream",
          "name": "stdout",
          "text": [
            "Preprocessed datasets have been saved to Google Drive.\n"
          ]
        }
      ]
    }
  ]
}